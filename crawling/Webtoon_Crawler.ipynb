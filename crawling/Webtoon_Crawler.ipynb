{
  "cells": [
    {
      "cell_type": "markdown",
      "id": "W3CADIlmi6rj",
      "metadata": {
        "id": "W3CADIlmi6rj"
      },
      "source": [
        "> ### 1. 셀레니움 설치"
      ]
    },
    {
      "cell_type": "code",
      "execution_count": null,
      "id": "9112c20c",
      "metadata": {
        "collapsed": true,
        "id": "9112c20c",
        "outputId": "051ebe9a-03dc-4253-c535-3ce85795131e"
      },
      "outputs": [
        {
          "name": "stdout",
          "output_type": "stream",
          "text": [
            "Requirement already satisfied: selenium in c:\\users\\deukr\\anaconda3\\lib\\site-packages (3.141.0)\n",
            "Requirement already satisfied: urllib3 in c:\\users\\deukr\\anaconda3\\lib\\site-packages (from selenium) (1.26.4)\n",
            "Note: you may need to restart the kernel to use updated packages.\n"
          ]
        },
        {
          "name": "stderr",
          "output_type": "stream",
          "text": [
            "WARNING: Ignoring invalid distribution -cipy (c:\\users\\deukr\\anaconda3\\lib\\site-packages)\n",
            "WARNING: Ignoring invalid distribution -pencv-contrib-python (c:\\users\\deukr\\anaconda3\\lib\\site-packages)\n",
            "WARNING: Ignoring invalid distribution -cipy (c:\\users\\deukr\\anaconda3\\lib\\site-packages)\n",
            "WARNING: Ignoring invalid distribution -pencv-contrib-python (c:\\users\\deukr\\anaconda3\\lib\\site-packages)\n"
          ]
        }
      ],
      "source": [
        "pip install selenium\n"
      ]
    },
    {
      "cell_type": "code",
      "execution_count": null,
      "id": "003a122b",
      "metadata": {
        "id": "003a122b",
        "outputId": "6ce9370a-8940-4736-f2f4-9061f6c91414"
      },
      "outputs": [
        {
          "name": "stdout",
          "output_type": "stream",
          "text": [
            "Requirement already satisfied: selenium==3.141.0 in c:\\users\\deukr\\anaconda3\\lib\\site-packages (3.141.0)\n",
            "Requirement already satisfied: urllib3 in c:\\users\\deukr\\anaconda3\\lib\\site-packages (from selenium==3.141.0) (1.26.4)\n",
            "Note: you may need to restart the kernel to use updated packages.\n"
          ]
        },
        {
          "name": "stderr",
          "output_type": "stream",
          "text": [
            "WARNING: Ignoring invalid distribution -cipy (c:\\users\\deukr\\anaconda3\\lib\\site-packages)\n",
            "WARNING: Ignoring invalid distribution -pencv-contrib-python (c:\\users\\deukr\\anaconda3\\lib\\site-packages)\n",
            "WARNING: Ignoring invalid distribution -cipy (c:\\users\\deukr\\anaconda3\\lib\\site-packages)\n",
            "WARNING: Ignoring invalid distribution -pencv-contrib-python (c:\\users\\deukr\\anaconda3\\lib\\site-packages)\n"
          ]
        }
      ],
      "source": [
        "pip install selenium==3.141.0"
      ]
    },
    {
      "cell_type": "code",
      "execution_count": null,
      "id": "4b446512",
      "metadata": {
        "id": "4b446512"
      },
      "outputs": [],
      "source": [
        "from selenium import webdriver\n"
      ]
    },
    {
      "cell_type": "markdown",
      "id": "jkFWmz1zhyo2",
      "metadata": {
        "id": "jkFWmz1zhyo2"
      },
      "source": [
        "> ### 2. 자신의 크롬 브라우저에 해당하는 크롬드라이버를 설치해야합니다.\n",
        "\n",
        "크롬 정보 확인 : chrome://settings/help\n",
        "\n",
        "[크롬드라이버 설치 링크입니다.](https://chromedriver.chromium.org/downloads)\n",
        "\n",
        "\n"
      ]
    },
    {
      "cell_type": "code",
      "execution_count": null,
      "id": "17cb2bdc",
      "metadata": {
        "id": "17cb2bdc"
      },
      "outputs": [],
      "source": [
        "#import os\n",
        "#os.getcwd()\n",
        "#driver=webdriver.Chrome()"
      ]
    },
    {
      "cell_type": "markdown",
      "id": "Xb-21ArljFQs",
      "metadata": {
        "id": "Xb-21ArljFQs"
      },
      "source": [
        "> ### 3. 주피터 노트북(코랩 X)에서 다운받은 크롬드라이버가 있는 디렉토리로 cd합니다."
      ]
    },
    {
      "cell_type": "code",
      "execution_count": null,
      "id": "e64e4299",
      "metadata": {
        "id": "e64e4299",
        "scrolled": true
      },
      "outputs": [],
      "source": [
        "#ls\n",
        "#cd # 크롬드라이버가 있는 경로로 이동합니다. cd .."
      ]
    },
    {
      "cell_type": "code",
      "execution_count": null,
      "id": "fc27fb4c",
      "metadata": {
        "id": "fc27fb4c",
        "outputId": "acb9b414-175e-4316-f835-50319aea8055"
      },
      "outputs": [
        {
          "name": "stdout",
          "output_type": "stream",
          "text": [
            " C 드라이브의 볼륨: BOOTCAMP\n",
            " 볼륨 일련 번호: 729C-9BFB\n",
            "\n",
            " C:\\Users\\User\\Downloads\\chrome 디렉터리\n",
            "\n",
            "2023-05-23  오전 02:31    <DIR>          .\n",
            "2023-05-23  오전 02:31    <DIR>          ..\n",
            "2023-03-29  오전 01:22        12,764,160 chromedriver.exe\n",
            "2023-03-29  오전 01:22           247,181 LICENSE.chromedriver\n",
            "2023-05-23  오전 02:31            51,597 top50.csv\n",
            "               3개 파일          13,062,938 바이트\n",
            "               2개 디렉터리  144,629,579,776 바이트 남음\n"
          ]
        }
      ],
      "source": [
        "ls"
      ]
    },
    {
      "cell_type": "markdown",
      "id": "YhTkobBdk3K1",
      "metadata": {
        "id": "YhTkobBdk3K1"
      },
      "source": [
        "> ### 4. 크롤링 코드 작성하기"
      ]
    },
    {
      "cell_type": "code",
      "execution_count": null,
      "id": "ed4568d0",
      "metadata": {
        "id": "ed4568d0"
      },
      "outputs": [],
      "source": [
        "from selenium.webdriver.support.ui import Select\n",
        "from selenium.webdriver.common.by import By\n",
        "from selenium.webdriver.common.keys import Keys"
      ]
    },
    {
      "cell_type": "markdown",
      "id": "cb786c46",
      "metadata": {
        "id": "cb786c46"
      },
      "source": [
        "### Naver Webtoon Thumbnail Crawling"
      ]
    },
    {
      "cell_type": "code",
      "execution_count": null,
      "id": "28e5e325",
      "metadata": {
        "id": "28e5e325"
      },
      "outputs": [],
      "source": [
        "from selenium import webdriver\n",
        "\n",
        "# 크롬드라이버를 설치한 경로 chromedriver.exe가 존재하는 path를 지정합니다.\n",
        "webdriver_path = 'chromedriver'\n",
        "\n",
        "# Chrome WebDriver 실행\n",
        "browser = webdriver.Chrome(webdriver_path)\n",
        "\n",
        "\n",
        "url = \"https://comic.naver.com/webtoon\"\n",
        "\n",
        "\n",
        "browser.implicitly_wait(3)\n",
        "browser.get(url)  # 페이지 접속\n",
        "\n",
        "\n",
        "#browser.quit()  # 브라우저 종료\n"
      ]
    },
    {
      "cell_type": "code",
      "execution_count": null,
      "id": "49334731",
      "metadata": {
        "id": "49334731"
      },
      "outputs": [],
      "source": [
        "\n",
        "\n",
        "webtoon_name=[]\n",
        "\n",
        "thumbnail_url=[]\n",
        "\n",
        "webtoon_detail_url =[]\n"
      ]
    },
    {
      "cell_type": "code",
      "execution_count": null,
      "id": "9e9b3686",
      "metadata": {
        "id": "9e9b3686"
      },
      "outputs": [],
      "source": [
        "browser.execute_script(\"document.body.style.zoom='5%'\")\n",
        "# 화면 배율 설정 한화면에 다나오도록하기위함."
      ]
    },
    {
      "cell_type": "code",
      "execution_count": null,
      "id": "8246f1d7",
      "metadata": {
        "id": "8246f1d7",
        "outputId": "d0bdcf11-f94b-4993-f5f3-b622d5faa718"
      },
      "outputs": [
        {
          "name": "stdout",
          "output_type": "stream",
          "text": [
            "뷰티풀 군바리\n"
          ]
        }
      ],
      "source": [
        "name = browser.find_element(By.XPATH,f'//*[@id=\"container\"]/div[3]/div[2]/div[1]/ul/li[1]/div/a/span/span')\n",
        "print(name.text)"
      ]
    },
    {
      "cell_type": "code",
      "execution_count": null,
      "id": "b284e00e",
      "metadata": {
        "id": "b284e00e",
        "outputId": "abfd9df7-f8d6-4ae5-8f3a-3946593b37c9"
      },
      "outputs": [
        {
          "name": "stdout",
          "output_type": "stream",
          "text": [
            "뷰티풀 군바리\n",
            "신의 탑\n",
            "퀘스트지상주의\n",
            "똑 닮은 딸\n",
            "백수세끼\n",
            "윈드브레이커\n",
            "장씨세가 호위무사\n",
            "소녀의 세계\n",
            "신화급 귀속 아이템을 손에 넣었다\n",
            "버림받은 왕녀의 은밀한 침실\n",
            "앵무살수\n",
            "별난식당\n",
            "퍼니게임\n",
            "호랑신랑뎐\n",
            "절대검감\n",
            "만렙돌파\n",
            "물어보는 사이\n",
            "잔불의 기사\n",
            "꼬리잡기\n",
            "리턴 투 플레이어\n",
            "북부 공작님을 유혹하겠습니다\n",
            "순정말고 순종\n",
            "히어로메이커\n",
            "나 없는 단톡방\n",
            "결혼생활 그림일기\n",
            "루루라라 우리네 인생\n",
            "신군\n",
            "엘프\n",
            "천재 타자가 강속구를 숨김\n",
            "또다시, 계약 부부\n",
            "다시쓰는 연애사\n",
            "더블클릭\n",
            "아, 쫌 참으세요 영주님!\n",
            "인섹터\n",
            "파운더\n",
            "어쌔신 크리드 - 잊혀진 사원\n",
            "서브 남주가 파업하면 생기는 일\n",
            "쥴리에타의 드레스 업\n",
            "꿈의 기업\n",
            "오빠집이 비어서\n",
            "러브 똘츄얼리\n",
            "수영만화일기\n",
            "강남의 기사\n",
            "사이다걸\n",
            "아슈타르테\n",
            "사랑의 헌옷수거함\n",
            "칼가는 소녀\n",
            "헬크래프트\n",
            "우산 없는 애\n",
            "매지컬 급식:암살법사\n",
            "하루의 하루\n",
            "피폐물의 해피엔딩을 위하여\n",
            "랭커\n",
            "라서드\n",
            "입술이 예쁜 남자\n",
            "경비실에서 안내방송 드립니다\n",
            "너를 돌려차는 방법\n",
            "고백어택\n",
            "영앤리치가 아니야!\n",
            "원하나\n",
            "도깨비 부른다\n",
            "주작연애\n",
            "파견체\n",
            "악당과 악당이 만나면\n",
            "오늘의 비너스\n",
            "집사, 주세요!\n",
            "메리의 불타는 행복회로\n",
            "포스트 팬데믹\n",
            "퇴근 후에 만나요\n",
            "지옥연애환담\n",
            "모스크바의 여명\n",
            "세번째 로망스\n",
            "트러블리걸\n",
            "역주행!\n",
            "슈퍼스타 천대리\n",
            "굿바이 유교보이\n",
            "버그이터\n",
            "최후의 금빛아이\n",
            "토마토가 돼라!\n",
            "악취해결사\n",
            "루크 비셸 따라잡기\n",
            "결혼공략\n",
            "연애 연기대상\n",
            "중독연구소\n",
            "디나운스\n",
            "백호랑\n",
            "행운을 부탁해!\n",
            "오로지 오로라\n",
            "별을 쫓는 소년들\n",
            "--------------------------------------------------------------------------\n",
            "김부장\n",
            "내가 키운 S급들\n",
            "마루는 강쥐\n",
            "대학원 탈출일지\n",
            "신과함께 돌아온 기사왕님\n",
            "사신소년\n",
            "한림체육관\n",
            "멸망 이후의 세계\n",
            "이번 생도 잘 부탁해 - 기억의 한 조각\n",
            "하루만 네가 되고 싶어\n",
            "사변괴담\n",
            "헬58\n",
            "삼국지톡\n",
            "하북팽가 막내아들\n",
            "용사가 돌아왔다\n",
            "궤짝\n",
            "악몽의 형상\n",
            "시한부인 줄 알았어요!\n",
            "놓지마 정신줄 시즌3\n",
            "올가미\n",
            "거짓말의 뉘앙스\n",
            "초인의 게임\n",
            "호랑이 들어와요\n",
            "저 그런 인재 아닙니다\n",
            "대리게임\n",
            "원주민 공포만화\n",
            "위아더좀비\n",
            "랜덤채팅의 그녀!\n",
            "유사연애\n",
            "로잘린 보가트\n",
            "덴큐\n",
            "나타나주세요!\n",
            "반대로 끌리는 사이\n",
            "윌유메리미\n",
            "해골협객\n",
            "용왕님의 셰프가 되었습니다\n",
            "윗집 그 남자\n",
            "헥토파스칼\n",
            "연우의 순정\n",
            "은주의 방 2~3부\n",
            "우리 집 고양이 보고 갈래?\n",
            "짝사랑의 마침표\n",
            "빅맨\n",
            "사표내고 이계에서 힐링합니다\n",
            "왕게임\n",
            "빌런투킬\n",
            "에이머\n",
            "왕자님 짠내밥상\n",
            "그냥 선생님\n",
            "애옹식당\n",
            "웅크\n",
            "하우스키퍼\n",
            "짐승의 꽃\n",
            "렌탈히어로\n",
            "우투리: THE LEGACY\n",
            "아이즈\n",
            "로맨스가 가능해?\n",
            "사공은주\n",
            "제로게임\n",
            "내남친 킹카만들기\n",
            "주인님을 잡아먹는 방법\n",
            "랜덤타겟\n",
            "여우자매\n",
            "한입만!\n",
            "팀장님은 신혼이 피곤하다\n",
            "햄버거가 제일 좋아\n",
            "필리아로제 - 가시왕관의 예언\n",
            "이 결혼, 새로고침\n",
            "원포인트\n",
            "동경과 거짓말\n",
            "은밀한 재택근무\n",
            "돌격! 용마치킨\n",
            "공작저의 붉은 밤\n",
            "원수가 나를 유혹할 때\n",
            "교환학생\n",
            "DARK MOON: 회색 도시\n",
            "달이 사라진 밤\n",
            "AI 유하\n",
            "너의 순정, 나의 순정\n",
            "마녀이야기\n",
            "--------------------------------------------------------------------------\n",
            "전지적 독자 시점\n",
            "성스러운 작가생활\n",
            "헬퍼 2 : 킬베로스\n",
            "백XX\n",
            "캐슬2:만인지상\n",
            "66666년 만에 환생한 흑마법사\n",
            "일렉시드\n",
            "황후를 훔친 이는 누구인가\n",
            "격기3반\n",
            "미래의 골동품 가게\n",
            "가짜 동맹\n",
            "튜토리얼 탑의 고인물\n",
            "운명을 보는 회사원\n",
            "나쁜사람\n",
            "내가 죽기로 결심한 것은\n",
            "빌드업\n",
            "칼에 취한 밤을 걷다\n",
            "왕따가 격투기를 너무 잘함\n",
            "중간에서 만나\n",
            "닥터앤닥터 병원일기\n",
            "남사친의 법칙\n",
            "악의 등교\n",
            "베이비 폭군\n",
            "사상최강\n",
            "쓰레기는 쓰레기통에!\n",
            "급식아빠\n",
            "안녕, 나의 수집\n",
            "에브리띵 이즈 파인\n",
            "마른 가지에 바람처럼\n",
            "헤어지면 죽음\n",
            "흔한 빙의물인 줄 알았다\n",
            "판타지 여동생!\n",
            "인과관계\n",
            "언덕 위의 제임스\n",
            "두꺼비집\n",
            "범상찮은 밤\n",
            "칼부림\n",
            "하렘의 남자들\n",
            "말숙이를 부탁해\n",
            "용한소녀\n",
            "괴물공작의 딸\n",
            "물고기로 살아남기\n",
            "사내고충처리반\n",
            "수요웹툰의 나강림\n",
            "행성인간2: 행성의\n",
            "좀간\n",
            "이십팔세기 광팬\n",
            "나를 낳아줘\n",
            "킬링대디\n",
            "누가 나를 죽였을까\n",
            "겨울 정원의 하와르\n",
            "두 번 사는 프로듀서\n",
            "주부 육성중\n",
            "옆집남자 친구\n",
            "메모리얼\n",
            "영웅&마왕&악당\n",
            "줄리에게\n",
            "반귀\n",
            "로어 올림푸스\n",
            "내겐 너무 소란한 결혼\n",
            "나랑 해요\n",
            "케찰코아틀 - 헤수스\n",
            "이혼은 쉬운데, 연애는 어렵다\n",
            "홀리데이\n",
            "미시령\n",
            "선배는 나빠요!\n",
            "솔그린\n",
            "그 남자의 은밀한 하루\n",
            "어느 백작 영애의 이중생활\n",
            "안미운 우리들\n",
            "하얀 사자의 비밀 신부\n",
            "굿헌팅\n",
            "히어로 더 맥시멈\n",
            "수플레 팬 케이크\n",
            "우리의 연애일지\n",
            "이런 미친 엔딩\n",
            "연애고수\n",
            "넷시의 비밀\n",
            "무직백수 계백순\n",
            "나의 계절\n",
            "낙원의 이론\n",
            "두 마리를 위한 뜰\n",
            "필생기\n",
            "이 짝사랑은 억울하다!\n",
            "아이돌의 비밀 스터디\n",
            "산의 시간\n",
            "결혼 시뮬레이션\n",
            "--------------------------------------------------------------------------\n",
            "앞집나리\n",
            "나노마신\n",
            "촉법소년\n",
            "재벌집 막내아들\n",
            "남편을 죽여줘요\n",
            "현실퀘스트\n",
            "무사만리행\n",
            "네이처맨\n",
            "나 혼자 네크로맨서\n",
            "뮤즈 온 유명\n",
            "별을 삼킨 너에게\n",
            "서울밤피어\n",
            "게임 속 바바리안으로 살아남기\n",
            "호랑신랑뎐\n",
            "보스였음\n",
            "버려진 나의 최애를 위하여\n",
            "순정빌런\n",
            "규격 외 혈통 천재\n",
            "마법사랑해\n",
            "가족같은 XX\n",
            "쿠베라\n",
            "특수청소\n",
            "순수한 동거생활\n",
            "시한부 천재 암흑기사\n",
            "천마육성\n",
            "최강전설 강해효\n",
            "흑막 여주가 날 새엄마로 만들려고 해\n",
            "국세청 망나니\n",
            "꽃만 키우는데 너무강함\n",
            "비서 일탈\n",
            "회귀한 천재 헌터의 슬기로운 청소생활\n",
            "루루라라 우리네 인생\n",
            "던전 씹어먹는 아티팩트\n",
            "게임 최강 트롤러\n",
            "네가 죽기를 바랄 때가 있었다\n",
            "썩은 핑크의 법칙\n",
            "완벽한 결혼의 정석\n",
            "아인슈페너\n",
            "마왕까지 한 걸음\n",
            "이상한 변호사 우영우\n",
            "베니루 BAENIRU\n",
            "그 악룡은 무엇을 위해 사는가\n",
            "만능잡캐\n",
            "당신의 그림자를 그만두었을 때\n",
            "불쌍해야 하는 남자\n",
            "누나! 나 무서워\n",
            "위대한 겸상\n",
            "방과후 레시피\n",
            "킬더킹\n",
            "수영만화일기\n",
            "코인 리벤지\n",
            "해시의 신루\n",
            "이러면 안 돼요, 전하!\n",
            "올빼미와 여름 하늘\n",
            "이게 웬 떡\n",
            "오, 친애하는 숙적\n",
            "THE 런웨이\n",
            "엔딩, 바꿔보려합니다\n",
            "마녀의 심판은 꽃이 된다\n",
            "케찰코아틀 - 다빗\n",
            "나의 불편한 상사\n",
            "독거미\n",
            "달의 요람\n",
            "너와 XX\n",
            "환상연가\n",
            "가상&RPG\n",
            "진짜 진짜 이혼해\n",
            "아빠같은 남자\n",
            "황궁에 핀 꽃은, 미쳤다\n",
            "시에라\n",
            "황제사냥\n",
            "따개비\n",
            "부캐인생\n",
            "천재의 게임방송\n",
            "로맨틱 태평수산\n",
            "35cm\n",
            "사기 친 공작님을 유혹해버렸다\n",
            "카루나\n",
            "배트맨: 웨인 패밀리 어드벤처\n",
            "나쁜 마법사의 꿈\n",
            "유월의 소한\n",
            "보물과 괴물의 도시\n",
            "권리행사자\n",
            "사랑하는 여배우들\n",
            "--------------------------------------------------------------------------\n",
            "외모지상주의\n",
            "나 혼자 만렙 뉴비\n",
            "광마회귀\n",
            "재혼 황후\n",
            "역대급 영지 설계사\n",
            "대학원 탈출일지\n",
            "어쩌다보니 천생연분\n",
            "데드퀸\n",
            "개를 낳았다\n",
            "1초\n",
            "언니, 이번 생엔 내가 왕비야\n",
            "죽지 않으려면\n",
            "상남자\n",
            "세기말 풋사과 보습학원\n",
            "낙향문사전\n",
            "사신\n",
            "삼국지톡\n",
            "천하제일 대사형\n",
            "A.I. 닥터\n",
            "서울역 드루이드\n",
            "여우놀이\n",
            "약탈 신부\n",
            "전남편의 미친개를 길들였다\n",
            "나혼자 탑에서 농사\n",
            "선을 넘은 연애\n",
            "히어로 킬러\n",
            "연애의 기록\n",
            "룸9\n",
            "더 게이머\n",
            "커플브레이커\n",
            "그 기사가 레이디로 사는 법\n",
            "너의 미소가 함정\n",
            "플레이어\n",
            "브레이커 : 이터널 포스\n",
            "말년용사\n",
            "폭군님은 착하게 살고 싶어\n",
            "소름일기\n",
            "푸쉬오프\n",
            "대위님! 이번 전쟁터는 이곳인가요?\n",
            "언다잉\n",
            "여름여자 하보이\n",
            "평화식당\n",
            "그렇고 그런 바람에\n",
            "여자를 사귀고 싶다\n",
            "쌈빡\n",
            "그냥 선생님\n",
            "온리호프\n",
            "희란국연가\n",
            "미친 후작을 길들이고 말았다\n",
            "바스티안\n",
            "웅크\n",
            "죽음으로 구원하사\n",
            "킬 더 드래곤\n",
            "절대복종\n",
            "후덜덜덜 남극전자\n",
            "신컨의 원 코인 클리어\n",
            "지옥 키우기\n",
            "성스러운 그대 이르시길\n",
            "스포\n",
            "이게 아닌데\n",
            "몽홀\n",
            "네버엔딩달링\n",
            "지니오패스\n",
            "악마라고 불러다오\n",
            "멜빈이 그들에게 남긴 것\n",
            "뜨거운 홍차\n",
            "스토커의 하루\n",
            "메소드 연기법\n",
            "재앙의 날\n",
            "인피니티\n",
            "백년게임\n",
            "너의 키스씬\n",
            "우리 무슨 사이야?\n",
            "합법해적 파르페\n",
            "연기는 처음인데요?!\n",
            "미드우트\n",
            "비밀친구\n",
            "별빛 커튼콜\n",
            "푸른 밤, 황홀의 윤무\n",
            "여름의 너에게\n",
            "하나는 적고 둘은 너무 많아\n",
            "신의 최애캐\n",
            "히트포인트\n",
            "애증화음\n",
            "크림슨 하트\n",
            "천상의 주인\n",
            "행운을 빌어요, 용사님!\n",
            "세라는 망돌\n",
            "기억해줘\n",
            "너에게 입덕중\n",
            "서울시 천사주의\n",
            "--------------------------------------------------------------------------\n"
          ]
        }
      ],
      "source": [
        "'''\n",
        "1 -> 1-89\n",
        "2-> 1-80\n",
        "3-> 1-87\n",
        "4-> 1-84\n",
        "5 -> 1-91\n",
        "'''\n",
        "\n",
        "week = [89,80,87,84,91] #요일별 웹툰 수\n",
        "\n",
        "for idx,num in zip(range(1,len(week)+1),week) :\n",
        "    for row in range(1,num+1):\n",
        "        thumbnail=browser.find_element(By.XPATH ,f'//*[@id=\"container\"]/div[3]/div[2]/div[{idx}]/ul/li[{row}]/a/div/img').get_attribute('src')\n",
        "        name = browser.find_element(By.XPATH,f'//*[@id=\"container\"]/div[3]/div[2]/div[{idx}]/ul/li[{row}]/div/a/span/span')\n",
        "        detail_url = browser.find_element(By.XPATH,f'//*[@id=\"container\"]/div[3]/div[2]/div[{idx}]/ul/li[{row}]/a').get_attribute('href')\n",
        "        webtoon_name.append(name.text)\n",
        "        thumbnail_url.append(thumbnail)\n",
        "        webtoon_detail_url.append(detail_url)\n",
        "        print(name.text)\n",
        "    print(\"--------------------------------------------------------------------------\")\n",
        "\n",
        "\n"
      ]
    },
    {
      "cell_type": "markdown",
      "id": "SGBNcpL-JBvs",
      "metadata": {
        "id": "SGBNcpL-JBvs"
      },
      "source": [
        "> **로컬경로에 csv파일저장하기**"
      ]
    },
    {
      "cell_type": "code",
      "execution_count": null,
      "id": "03233ed0",
      "metadata": {
        "id": "03233ed0"
      },
      "outputs": [],
      "source": [
        "import pandas as pd\n",
        "\n",
        "df=pd.DataFrame({'웹툰이름' : webtoon_name,\n",
        "             '썸네일경로 ' : thumbnail_url,\n",
        "              '웹툰디테일경로 ' : webtoon_detail_url\n",
        "             }\n",
        ")\n",
        "\n",
        "df.to_csv('weekWebtoon.csv',index=False)"
      ]
    }
  ],
  "metadata": {
    "colab": {
      "provenance": []
    },
    "kernelspec": {
      "display_name": "Python 3 (ipykernel)",
      "language": "python",
      "name": "python3"
    },
    "language_info": {
      "codemirror_mode": {
        "name": "ipython",
        "version": 3
      },
      "file_extension": ".py",
      "mimetype": "text/x-python",
      "name": "python",
      "nbconvert_exporter": "python",
      "pygments_lexer": "ipython3",
      "version": "3.10.9"
    }
  },
  "nbformat": 4,
  "nbformat_minor": 5
}